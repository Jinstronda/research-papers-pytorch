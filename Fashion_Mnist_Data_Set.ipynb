{
  "nbformat": 4,
  "nbformat_minor": 0,
  "metadata": {
    "colab": {
      "provenance": [],
      "gpuType": "T4",
      "authorship_tag": "ABX9TyOkLUNd8R/vTUuB/mBx/rRp",
      "include_colab_link": true
    },
    "kernelspec": {
      "name": "python3",
      "display_name": "Python 3"
    },
    "language_info": {
      "name": "python"
    },
    "accelerator": "GPU"
  },
  "cells": [
    {
      "cell_type": "markdown",
      "metadata": {
        "id": "view-in-github",
        "colab_type": "text"
      },
      "source": [
        "<a href=\"https://colab.research.google.com/github/Jinstronda/research-papers-pytorch/blob/main/Fashion_Mnist_Data_Set.ipynb\" target=\"_parent\"><img src=\"https://colab.research.google.com/assets/colab-badge.svg\" alt=\"Open In Colab\"/></a>"
      ]
    },
    {
      "cell_type": "code",
      "execution_count": 1,
      "metadata": {
        "id": "w679CDbdZYGJ"
      },
      "outputs": [],
      "source": [
        "import torch\n",
        "from torch import nn\n",
        "import matplotlib.pyplot as plt\n",
        "import numpy as np\n",
        "import pandas as pd\n",
        "import torchvision"
      ]
    },
    {
      "cell_type": "code",
      "source": [
        "# Pytorch Computer Vision\n",
        "# Torch Vision is the computer vision library\n",
        "# torchvision.datasets - Tem todos os data sets\n",
        "# torchvision.models - Tem modelos JA treinados.\n",
        "# torchvision.transforms - Preparar as imagens para ser melhor com o modelo\n",
        "# torch.utils.data.Dataset - Data Set Base para dados\n",
        "# torch.utils.data.DataLoader - Create um iterable por um data set"
      ],
      "metadata": {
        "id": "MgzP7SUAZjvc"
      },
      "execution_count": 2,
      "outputs": []
    },
    {
      "cell_type": "code",
      "source": [
        "from torchvision import datasets\n",
        "from torchvision import transforms\n",
        "from torchvision.transforms import ToTensor"
      ],
      "metadata": {
        "id": "BZ2V7Suv88xs"
      },
      "execution_count": 3,
      "outputs": []
    },
    {
      "cell_type": "markdown",
      "source": [
        "# 1. Getting a Data Set and Visualizing It\n",
        "We will use a Fashion Mnist Data Set, that is a more complicated version of the normal Mnist data set for convolution Neural Networks\n",
        "Pytorch give us a Data Set and then we can create a Data Loader with a specific Batch Size for It"
      ],
      "metadata": {
        "id": "fEo4jFom9gII"
      }
    },
    {
      "cell_type": "code",
      "source": [
        "# Getting Training Data\n",
        "train_data = datasets.FashionMNIST(\n",
        "    root = \"data\",\n",
        "    train=True, # We are getting the training data\n",
        "    download = True,\n",
        "    transform = ToTensor(), # Automatically Transform into Tensors\n",
        "    target_transform= None # How do we want to transform the y targets\n",
        ")\n",
        "\n",
        "test_data = datasets.FashionMNIST(\n",
        "    root=\"data\",\n",
        "    train=False,\n",
        "    download=True,\n",
        "    transform=ToTensor(),\n",
        "    target_transform= None\n",
        ")"
      ],
      "metadata": {
        "id": "93-UI4aY-MET"
      },
      "execution_count": 4,
      "outputs": []
    },
    {
      "cell_type": "code",
      "source": [
        "print(f\"Train Data Size: {len(train_data)}, Test Data Size {len(test_data)}\")"
      ],
      "metadata": {
        "colab": {
          "base_uri": "https://localhost:8080/"
        },
        "id": "sLAT-kA3-L4o",
        "outputId": "2215d03b-d15f-4312-c853-f9e62dc73cc1"
      },
      "execution_count": 5,
      "outputs": [
        {
          "output_type": "stream",
          "name": "stdout",
          "text": [
            "Train Data Size: 60000, Test Data Size 10000\n"
          ]
        }
      ]
    },
    {
      "cell_type": "code",
      "source": [
        "print(f\"Class Names: \\n {train_data.classes}\")\n",
        "print(f\" Class Indexes: \\n {train_data.class_to_idx}\")"
      ],
      "metadata": {
        "id": "BxXxOGrMj3x3",
        "colab": {
          "base_uri": "https://localhost:8080/"
        },
        "outputId": "b3b2e7f9-57a3-4fa6-da22-5c400b3cdadd"
      },
      "execution_count": 6,
      "outputs": [
        {
          "output_type": "stream",
          "name": "stdout",
          "text": [
            "Class Names: \n",
            " ['T-shirt/top', 'Trouser', 'Pullover', 'Dress', 'Coat', 'Sandal', 'Shirt', 'Sneaker', 'Bag', 'Ankle boot']\n",
            " Class Indexes: \n",
            " {'T-shirt/top': 0, 'Trouser': 1, 'Pullover': 2, 'Dress': 3, 'Coat': 4, 'Sandal': 5, 'Shirt': 6, 'Sneaker': 7, 'Bag': 8, 'Ankle boot': 9}\n"
          ]
        }
      ]
    },
    {
      "cell_type": "code",
      "source": [
        "image, label = train_data[0] # Getting One Image to check its shape\n",
        "print(f\"Image Shape: {image.shape}, Image Label: {label}\")\n",
        "#"
      ],
      "metadata": {
        "colab": {
          "base_uri": "https://localhost:8080/"
        },
        "id": "XGkjX0omAUyS",
        "outputId": "3710dd0f-aa50-46aa-ef3a-9b8ea1b2c71d"
      },
      "execution_count": 7,
      "outputs": [
        {
          "output_type": "stream",
          "name": "stdout",
          "text": [
            "Image Shape: torch.Size([1, 28, 28]), Image Label: 9\n"
          ]
        }
      ]
    },
    {
      "cell_type": "markdown",
      "source": [
        "1 Color Channel (Grey), 28x28 Dimensions, Class is 9, Ankle Boot, Pytorch overview COLOR CHANNELS FIRST"
      ],
      "metadata": {
        "id": "8dd6fg8B_vsO"
      }
    },
    {
      "cell_type": "markdown",
      "source": [
        "# 2 . Some More Visualization"
      ],
      "metadata": {
        "id": "gkBi9MIWAtoP"
      }
    },
    {
      "cell_type": "markdown",
      "source": [
        "MatPlotLib only understand Color Channels after, but image is grey so we can just remove the Grey Channel"
      ],
      "metadata": {
        "id": "DNcO470wBNSx"
      }
    },
    {
      "cell_type": "code",
      "source": [
        "plt.imshow(image.squeeze(),cmap=\"grey\")\n",
        "plt.title(train_data.classes[label]) # Show Image and gets its label"
      ],
      "metadata": {
        "colab": {
          "base_uri": "https://localhost:8080/",
          "height": 469
        },
        "id": "iyHfRsMPBOzM",
        "outputId": "15a329ad-a29a-4855-d669-8a354e634514"
      },
      "execution_count": 8,
      "outputs": [
        {
          "output_type": "execute_result",
          "data": {
            "text/plain": [
              "Text(0.5, 1.0, 'Ankle boot')"
            ]
          },
          "metadata": {},
          "execution_count": 8
        },
        {
          "output_type": "display_data",
          "data": {
            "text/plain": [
              "<Figure size 640x480 with 1 Axes>"
            ],
            "image/png": "[encoded data removed]"
          },
          "metadata": {}
        }
      ]
    },
    {
      "cell_type": "code",
      "source": [
        "# Get Some Random Images\n",
        "torch.manual_seed(42)\n",
        "fig = plt.figure(figsize=(9,9))\n",
        "rows,cols = 4,4\n",
        "for i in range(1,rows*cols+1):\n",
        "  random_idx = torch.randint(0,len(train_data),size=[1]).item() # Use torch.randit instead of random library\n",
        "  fig.add_subplot(rows,cols,i)\n",
        "  img, label = train_data[random_idx]\n",
        "  plt.imshow(img.squeeze(),cmap=\"gray\")\n",
        "  plt.title(train_data.classes[label])\n",
        "  plt.axis(False)\n"
      ],
      "metadata": {
        "colab": {
          "base_uri": "https://localhost:8080/",
          "height": 752
        },
        "id": "jycPKyvSBb_x",
        "outputId": "5f9466f7-ab71-4b69-e75d-bc6cc2053452"
      },
      "execution_count": 9,
      "outputs": [
        {
          "output_type": "display_data",
          "data": {
            "text/plain": [
              "<Figure size 900x900 with 16 Axes>"
            ],
            "image/png": "[encoded data removed]"
          },
          "metadata": {}
        }
      ]
    },
    {
      "cell_type": "markdown",
      "source": [
        "Data is Kinda Weird, a lot of the images are weird. But lets see if we can make a better program than humans can do"
      ],
      "metadata": {
        "id": "xUgLSs32CRC2"
      }
    },
    {
      "cell_type": "markdown",
      "source": [
        "# 3. Preparing a Dataloader\n",
        "DataLoader will turn our data into mini batches for batch processing"
      ],
      "metadata": {
        "id": "ltr5ZkCFDCYT"
      }
    },
    {
      "cell_type": "code",
      "source": [
        "from torch.utils.data import DataLoader\n",
        "BATCH_SIZE = 32 # HyperParameter\n",
        "train_dataloader = DataLoader(dataset=train_data,batch_size=BATCH_SIZE,shuffle=True)\n",
        "test_dataloader = DataLoader(dataset=test_data,\n",
        "                             batch_size=BATCH_SIZE,\n",
        "                             shuffle=False)\n"
      ],
      "metadata": {
        "id": "3OqvlLCNDbYS"
      },
      "execution_count": 10,
      "outputs": []
    },
    {
      "cell_type": "markdown",
      "source": [],
      "metadata": {
        "id": "UpniD680DRaj"
      }
    },
    {
      "cell_type": "code",
      "source": [
        "print(f\"Number of batches : {len(train_dataloader)}\")\n",
        "print(f\"Number of Test Batches: {len(test_dataloader)}\")\n"
      ],
      "metadata": {
        "colab": {
          "base_uri": "https://localhost:8080/"
        },
        "id": "iwZ5w_BjxXzu",
        "outputId": "62ea6703-1192-46ad-abaa-d412af126e9a"
      },
      "execution_count": 11,
      "outputs": [
        {
          "output_type": "stream",
          "name": "stdout",
          "text": [
            "Number of batches : 1875\n",
            "Number of Test Batches: 313\n"
          ]
        }
      ]
    },
    {
      "cell_type": "markdown",
      "source": [
        "# Creating a BaseLine Model"
      ],
      "metadata": {
        "id": "QKrH15wbxdq1"
      }
    },
    {
      "cell_type": "code",
      "source": [
        "class modelV0(nn.Module):\n",
        "  def __init__(self,\n",
        "               input_shape,\n",
        "               hidden_units,\n",
        "               output_shape):\n",
        "    super().__init__()\n",
        "    self.layer_stack = nn.Sequential(\n",
        "        nn.Flatten(),\n",
        "        nn.Linear(in_features=input_shape,out_features=hidden_units),\n",
        "        nn.Linear(in_features=hidden_units,out_features=output_shape)\n",
        "\n",
        "    )\n",
        "\n",
        "  def forward(self,x):\n",
        "    return self.layer_stack(x)"
      ],
      "metadata": {
        "id": "3z1vezNayBR-"
      },
      "execution_count": 12,
      "outputs": []
    },
    {
      "cell_type": "code",
      "source": [
        "device = \"cuda\" if torch.cuda.is_available else \"cpu\"\n",
        "model_0 = modelV0(input_shape=784,\n",
        "                  hidden_units = 10,\n",
        "                  output_shape = 10).to(device)\n"
      ],
      "metadata": {
        "id": "xjc7XwC9zUA-"
      },
      "execution_count": 13,
      "outputs": []
    },
    {
      "cell_type": "code",
      "source": [
        "model_0.state_dict()"
      ],
      "metadata": {
        "colab": {
          "base_uri": "https://localhost:8080/"
        },
        "id": "BGGECwaV4Sfr",
        "outputId": "79698e33-67ad-424e-8b70-ff638f05931b"
      },
      "execution_count": 14,
      "outputs": [
        {
          "output_type": "execute_result",
          "data": {
            "text/plain": [
              "OrderedDict([('layer_stack.1.weight',\n",
              "              tensor([[ 0.0275,  0.0053, -0.0167,  ..., -0.0060, -0.0241,  0.0349],\n",
              "                      [-0.0072,  0.0142, -0.0319,  ..., -0.0047, -0.0304,  0.0081],\n",
              "                      [ 0.0005,  0.0217,  0.0023,  ...,  0.0322,  0.0071,  0.0319],\n",
              "                      ...,\n",
              "                      [ 0.0025, -0.0126, -0.0093,  ...,  0.0163,  0.0224, -0.0069],\n",
              "                      [ 0.0233, -0.0008, -0.0126,  ..., -0.0176, -0.0216,  0.0082],\n",
              "                      [ 0.0110,  0.0066,  0.0330,  ...,  0.0307,  0.0238,  0.0122]],\n",
              "                     device='cuda:0')),\n",
              "             ('layer_stack.1.bias',\n",
              "              tensor([-0.0257, -0.0120,  0.0228,  0.0321, -0.0169,  0.0152, -0.0084,  0.0227,\n",
              "                      -0.0054, -0.0284], device='cuda:0')),\n",
              "             ('layer_stack.2.weight',\n",
              "              tensor([[-0.3130, -0.0118,  0.0932, -0.1864,  0.2488,  0.1500,  0.1907,  0.1457,\n",
              "                       -0.3050, -0.0580],\n",
              "                      [ 0.1643,  0.1565, -0.2877, -0.1792,  0.2305, -0.2618,  0.2397, -0.0610,\n",
              "                        0.0232,  0.1542],\n",
              "                      [ 0.0851, -0.2027,  0.1030, -0.2715, -0.1596, -0.0555, -0.0633,  0.2302,\n",
              "                       -0.1726,  0.2654],\n",
              "                      [ 0.1473,  0.1029,  0.2252, -0.2160, -0.2725,  0.0118,  0.1559,  0.1596,\n",
              "                        0.0132,  0.3024],\n",
              "                      [ 0.1124,  0.1366, -0.1533,  0.0965, -0.1184, -0.2555, -0.2057, -0.1909,\n",
              "                       -0.0477, -0.1324],\n",
              "                      [ 0.2905,  0.1307, -0.2629,  0.0133,  0.2727, -0.0127,  0.0513,  0.0863,\n",
              "                       -0.1043, -0.2047],\n",
              "                      [-0.1185, -0.0825,  0.2488, -0.2571,  0.0425, -0.1209, -0.0336, -0.0281,\n",
              "                       -0.1227,  0.0730],\n",
              "                      [ 0.0747, -0.1816,  0.1943,  0.2853, -0.1310,  0.0645, -0.1171,  0.2168,\n",
              "                       -0.0245, -0.2820],\n",
              "                      [ 0.0736,  0.2621,  0.0012, -0.0810, -0.0087,  0.1791,  0.2712, -0.0791,\n",
              "                        0.1685,  0.1762],\n",
              "                      [ 0.2825,  0.2266, -0.2612, -0.2613, -0.2624,  0.1987, -0.1606,  0.1747,\n",
              "                       -0.0471, -0.1303]], device='cuda:0')),\n",
              "             ('layer_stack.2.bias',\n",
              "              tensor([ 0.2380, -0.0611, -0.1707, -0.0485, -0.2011, -0.3045, -0.0554, -0.0178,\n",
              "                      -0.1802,  0.2803], device='cuda:0'))])"
            ]
          },
          "metadata": {},
          "execution_count": 14
        }
      ]
    },
    {
      "cell_type": "code",
      "source": [
        "# 3.1 Optimizer\n",
        "\n",
        "loss_f0 = nn.CrossEntropyLoss()\n",
        "opt0 = torch.optim.Adam(lr=0.01,params = model_0.parameters())\n"
      ],
      "metadata": {
        "id": "wir9raXP4zsL"
      },
      "execution_count": 15,
      "outputs": []
    },
    {
      "cell_type": "code",
      "source": [
        "import requests\n",
        "from pathlib import Path\n",
        "\n",
        "if Path(\"helper_funcitons.py\").is_file():\n",
        "  print(\"Already exists\")\n",
        "else:\n",
        "  request = requests.get(\"https://raw.githubusercontent.com/mrdbourke/pytorch-deep-learning/refs/heads/main/helper_functions.py\")\n",
        "  with open(\"helper_functions.py\",\"wb\") as f:\n",
        "    f.write(request.content)\n",
        "\n"
      ],
      "metadata": {
        "id": "9BuUcOX-5LcF"
      },
      "execution_count": 16,
      "outputs": []
    },
    {
      "cell_type": "code",
      "source": [
        "!pip install torchmetrics\n",
        "\n",
        "import torchmetrics"
      ],
      "metadata": {
        "colab": {
          "base_uri": "https://localhost:8080/"
        },
        "id": "FOFRgEsj5xb1",
        "outputId": "0ec01194-9373-41ce-aebe-8cb6214e4382"
      },
      "execution_count": 17,
      "outputs": [
        {
          "output_type": "stream",
          "name": "stdout",
          "text": [
            "Requirement already satisfied: torchmetrics in /usr/local/lib/python3.11/dist-packages (1.6.1)\n",
            "Requirement already satisfied: numpy>1.20.0 in /usr/local/lib/python3.11/dist-packages (from torchmetrics) (1.26.4)\n",
            "Requirement already satisfied: packaging>17.1 in /usr/local/lib/python3.11/dist-packages (from torchmetrics) (24.2)\n",
            "Requirement already satisfied: torch>=2.0.0 in /usr/local/lib/python3.11/dist-packages (from torchmetrics) (2.5.1+cu124)\n",
            "Requirement already satisfied: lightning-utilities>=0.8.0 in /usr/local/lib/python3.11/dist-packages (from torchmetrics) (0.11.9)\n",
            "Requirement already satisfied: setuptools in /usr/local/lib/python3.11/dist-packages (from lightning-utilities>=0.8.0->torchmetrics) (75.1.0)\n",
            "Requirement already satisfied: typing-extensions in /usr/local/lib/python3.11/dist-packages (from lightning-utilities>=0.8.0->torchmetrics) (4.12.2)\n",
            "Requirement already satisfied: filelock in /usr/local/lib/python3.11/dist-packages (from torch>=2.0.0->torchmetrics) (3.17.0)\n",
            "Requirement already satisfied: networkx in /usr/local/lib/python3.11/dist-packages (from torch>=2.0.0->torchmetrics) (3.4.2)\n",
            "Requirement already satisfied: jinja2 in /usr/local/lib/python3.11/dist-packages (from torch>=2.0.0->torchmetrics) (3.1.5)\n",
            "Requirement already satisfied: fsspec in /usr/local/lib/python3.11/dist-packages (from torch>=2.0.0->torchmetrics) (2024.10.0)\n",
            "Requirement already satisfied: nvidia-cuda-nvrtc-cu12==12.4.127 in /usr/local/lib/python3.11/dist-packages (from torch>=2.0.0->torchmetrics) (12.4.127)\n",
            "Requirement already satisfied: nvidia-cuda-runtime-cu12==12.4.127 in /usr/local/lib/python3.11/dist-packages (from torch>=2.0.0->torchmetrics) (12.4.127)\n",
            "Requirement already satisfied: nvidia-cuda-cupti-cu12==12.4.127 in /usr/local/lib/python3.11/dist-packages (from torch>=2.0.0->torchmetrics) (12.4.127)\n",
            "Requirement already satisfied: nvidia-cudnn-cu12==9.1.0.70 in /usr/local/lib/python3.11/dist-packages (from torch>=2.0.0->torchmetrics) (9.1.0.70)\n",
            "Requirement already satisfied: nvidia-cublas-cu12==12.4.5.8 in /usr/local/lib/python3.11/dist-packages (from torch>=2.0.0->torchmetrics) (12.4.5.8)\n",
            "Requirement already satisfied: nvidia-cufft-cu12==11.2.1.3 in /usr/local/lib/python3.11/dist-packages (from torch>=2.0.0->torchmetrics) (11.2.1.3)\n",
            "Requirement already satisfied: nvidia-curand-cu12==10.3.5.147 in /usr/local/lib/python3.11/dist-packages (from torch>=2.0.0->torchmetrics) (10.3.5.147)\n",
            "Requirement already satisfied: nvidia-cusolver-cu12==11.6.1.9 in /usr/local/lib/python3.11/dist-packages (from torch>=2.0.0->torchmetrics) (11.6.1.9)\n",
            "Requirement already satisfied: nvidia-cusparse-cu12==12.3.1.170 in /usr/local/lib/python3.11/dist-packages (from torch>=2.0.0->torchmetrics) (12.3.1.170)\n",
            "Requirement already satisfied: nvidia-nccl-cu12==2.21.5 in /usr/local/lib/python3.11/dist-packages (from torch>=2.0.0->torchmetrics) (2.21.5)\n",
            "Requirement already satisfied: nvidia-nvtx-cu12==12.4.127 in /usr/local/lib/python3.11/dist-packages (from torch>=2.0.0->torchmetrics) (12.4.127)\n",
            "Requirement already satisfied: nvidia-nvjitlink-cu12==12.4.127 in /usr/local/lib/python3.11/dist-packages (from torch>=2.0.0->torchmetrics) (12.4.127)\n",
            "Requirement already satisfied: triton==3.1.0 in /usr/local/lib/python3.11/dist-packages (from torch>=2.0.0->torchmetrics) (3.1.0)\n",
            "Requirement already satisfied: sympy==1.13.1 in /usr/local/lib/python3.11/dist-packages (from torch>=2.0.0->torchmetrics) (1.13.1)\n",
            "Requirement already satisfied: mpmath<1.4,>=1.1.0 in /usr/local/lib/python3.11/dist-packages (from sympy==1.13.1->torch>=2.0.0->torchmetrics) (1.3.0)\n",
            "Requirement already satisfied: MarkupSafe>=2.0 in /usr/local/lib/python3.11/dist-packages (from jinja2->torch>=2.0.0->torchmetrics) (3.0.2)\n"
          ]
        }
      ]
    },
    {
      "cell_type": "code",
      "source": [
        "from torchmetrics.classification import MulticlassAccuracy\n",
        "\n",
        "acc = MulticlassAccuracy(10)"
      ],
      "metadata": {
        "id": "EzM5JZyp59-L"
      },
      "execution_count": 18,
      "outputs": []
    },
    {
      "cell_type": "code",
      "source": [
        "# Creating a timer\n",
        "from timeit import default_timer as timer\n",
        "def print_train_time(start:float,\n",
        "                     end: float,\n",
        "                     device: torch.device = None):\n",
        "  total_time = end-start\n",
        "  print(f\"Train time: {total_time:.3f} seconds\")\n",
        "  return total_time\n",
        "\n",
        "start_time = timer()\n",
        "end_time = timer()\n"
      ],
      "metadata": {
        "id": "UBuWITbY6o9S"
      },
      "execution_count": 19,
      "outputs": []
    },
    {
      "cell_type": "markdown",
      "source": [
        "# Conv Net\n",
        "Creating a Convolutional Net for the Data Set"
      ],
      "metadata": {
        "id": "i26P6qJx7WII"
      }
    },
    {
      "cell_type": "code",
      "source": [
        "class CNN_model(nn.Module):\n",
        "  def __init__(self):\n",
        "    super().__init__()\n",
        "    self.conv_block_1 = nn.Sequential(\n",
        "        nn.Conv2d(in_channels = 1,\n",
        "                  out_channels= 10,\n",
        "                  kernel_size = 3,\n",
        "                  stride = 1,\n",
        "                  padding= 1),\n",
        "        nn.ReLU(),\n",
        "        nn.Conv2d(in_channels = 10,\n",
        "                  out_channels = 10,\n",
        "                  kernel_size = 3,\n",
        "                  stride = 1,\n",
        "                  padding = 1),\n",
        "        nn.MaxPool2d(kernel_size=2)\n",
        "    )\n",
        "    self.conv_block_2 = nn.Sequential(\n",
        "        nn.Conv2d(in_channels = 10,\n",
        "                  out_channels= 10,\n",
        "                  kernel_size = 3,\n",
        "                  stride = 1,\n",
        "                  padding= 1),\n",
        "        nn.ReLU(),\n",
        "        nn.Conv2d(in_channels = 10,\n",
        "                  out_channels = 10,\n",
        "                  kernel_size = 3,\n",
        "                  stride = 1,\n",
        "                  padding = 1),\n",
        "        nn.MaxPool2d(kernel_size=2)\n",
        "    )\n",
        "    self.classifier = nn.Sequential(\n",
        "\n",
        "    nn.Flatten(),\n",
        "    nn.Linear(in_features=490, out_features=10)  # Only 10 features now\n",
        "  )\n",
        "\n",
        "  def forward(self,x):\n",
        "    x = self.conv_block_1(x)\n",
        "\n",
        "    x = self.conv_block_2(x)\n",
        "\n",
        "    x = self.classifier(x)\n",
        "\n",
        "    return x\n"
      ],
      "metadata": {
        "id": "wRc6ljzy7YYv"
      },
      "execution_count": 39,
      "outputs": []
    },
    {
      "cell_type": "code",
      "source": [
        "conv_model = CNN_model().to(device)\n"
      ],
      "metadata": {
        "id": "O1nzukKZBLpX"
      },
      "execution_count": 40,
      "outputs": []
    },
    {
      "cell_type": "code",
      "source": [
        "EPOCHS = 15\n",
        "LR = 0.01\n",
        "loss_f = nn.CrossEntropyLoss()\n",
        "opt = torch.optim.Adam(conv_model.parameters(),lr=LR)\n",
        "loss_list = []\n",
        "epoch_list = []"
      ],
      "metadata": {
        "id": "NCxMaKlJBjGC"
      },
      "execution_count": 41,
      "outputs": []
    },
    {
      "cell_type": "code",
      "source": [
        "from tqdm import tqdm\n",
        "for epoch in range(EPOCHS):\n",
        "  conv_model.train()\n",
        "  running_loss = 0.0\n",
        "  for mini_batch in tqdm(train_dataloader,desc= f\"Epoch:{epoch}\",ncols=100):\n",
        "    opt.zero_grad()\n",
        "\n",
        "    inputs, labels = mini_batch\n",
        "    inputs, labels = inputs.to(device), labels.to(device)\n",
        "    y_pred = conv_model(inputs)\n",
        "    loss = loss_f(y_pred,labels)\n",
        "    running_loss += loss.item()\n",
        "    loss.backward()\n",
        "    opt.step()\n",
        "  if epoch % 2 == 0:\n",
        "      avg_loss = running_loss / len(train_dataloader)\n",
        "      loss_list.append(avg_loss)\n",
        "      epoch_list.append(epoch)\n",
        "      print(f\"Epoch {epoch} Loss {avg_loss:.2f}\")\n",
        "\n"
      ],
      "metadata": {
        "colab": {
          "base_uri": "https://localhost:8080/"
        },
        "id": "etHwYNZkxEaW",
        "outputId": "fba3bb7f-a92b-4f7d-e89e-60db8cfadab0"
      },
      "execution_count": 43,
      "outputs": [
        {
          "output_type": "stream",
          "name": "stderr",
          "text": [
            "Epoch:0: 100%|█████████████████████████████████████████████████| 1875/1875 [00:11<00:00, 170.05it/s]\n"
          ]
        },
        {
          "output_type": "stream",
          "name": "stdout",
          "text": [
            "Epoch 0 Loss 0.39\n"
          ]
        },
        {
          "output_type": "stream",
          "name": "stderr",
          "text": [
            "Epoch:1: 100%|█████████████████████████████████████████████████| 1875/1875 [00:11<00:00, 170.29it/s]\n",
            "Epoch:2: 100%|█████████████████████████████████████████████████| 1875/1875 [00:11<00:00, 168.77it/s]\n"
          ]
        },
        {
          "output_type": "stream",
          "name": "stdout",
          "text": [
            "Epoch 2 Loss 0.35\n"
          ]
        },
        {
          "output_type": "stream",
          "name": "stderr",
          "text": [
            "Epoch:3: 100%|█████████████████████████████████████████████████| 1875/1875 [00:11<00:00, 168.92it/s]\n",
            "Epoch:4: 100%|█████████████████████████████████████████████████| 1875/1875 [00:11<00:00, 167.45it/s]\n"
          ]
        },
        {
          "output_type": "stream",
          "name": "stdout",
          "text": [
            "Epoch 4 Loss 0.34\n"
          ]
        },
        {
          "output_type": "stream",
          "name": "stderr",
          "text": [
            "Epoch:5: 100%|█████████████████████████████████████████████████| 1875/1875 [00:11<00:00, 158.53it/s]\n",
            "Epoch:6: 100%|█████████████████████████████████████████████████| 1875/1875 [00:10<00:00, 174.27it/s]\n"
          ]
        },
        {
          "output_type": "stream",
          "name": "stdout",
          "text": [
            "Epoch 6 Loss 0.36\n"
          ]
        },
        {
          "output_type": "stream",
          "name": "stderr",
          "text": [
            "Epoch:7: 100%|█████████████████████████████████████████████████| 1875/1875 [00:10<00:00, 173.46it/s]\n",
            "Epoch:8: 100%|█████████████████████████████████████████████████| 1875/1875 [00:11<00:00, 168.53it/s]\n"
          ]
        },
        {
          "output_type": "stream",
          "name": "stdout",
          "text": [
            "Epoch 8 Loss 0.35\n"
          ]
        },
        {
          "output_type": "stream",
          "name": "stderr",
          "text": [
            "Epoch:9: 100%|█████████████████████████████████████████████████| 1875/1875 [00:11<00:00, 169.29it/s]\n",
            "Epoch:10: 100%|████████████████████████████████████████████████| 1875/1875 [00:11<00:00, 168.58it/s]\n"
          ]
        },
        {
          "output_type": "stream",
          "name": "stdout",
          "text": [
            "Epoch 10 Loss 0.35\n"
          ]
        },
        {
          "output_type": "stream",
          "name": "stderr",
          "text": [
            "Epoch:11: 100%|████████████████████████████████████████████████| 1875/1875 [00:11<00:00, 169.27it/s]\n",
            "Epoch:12: 100%|████████████████████████████████████████████████| 1875/1875 [00:11<00:00, 167.50it/s]\n"
          ]
        },
        {
          "output_type": "stream",
          "name": "stdout",
          "text": [
            "Epoch 12 Loss 0.35\n"
          ]
        },
        {
          "output_type": "stream",
          "name": "stderr",
          "text": [
            "Epoch:13: 100%|████████████████████████████████████████████████| 1875/1875 [00:11<00:00, 165.40it/s]\n",
            "Epoch:14: 100%|████████████████████████████████████████████████| 1875/1875 [00:10<00:00, 175.65it/s]"
          ]
        },
        {
          "output_type": "stream",
          "name": "stdout",
          "text": [
            "Epoch 14 Loss 0.34\n"
          ]
        },
        {
          "output_type": "stream",
          "name": "stderr",
          "text": [
            "\n"
          ]
        }
      ]
    },
    {
      "cell_type": "code",
      "source": [
        "plt.plot(epoch_list,loss_list)\n",
        "plt.title(\"Loss vs Epochs\")\n",
        "plt.xlabel(\"Epochs\")\n",
        "plt.ylabel(\"Loss\")\n",
        "plt.show()"
      ],
      "metadata": {
        "colab": {
          "base_uri": "https://localhost:8080/",
          "height": 472
        },
        "id": "trvkDfsryAFB",
        "outputId": "e496acb2-c8d3-4378-a054-a1cbe2dd61ef"
      },
      "execution_count": 44,
      "outputs": [
        {
          "output_type": "display_data",
          "data": {
            "text/plain": [
              "<Figure size 640x480 with 1 Axes>"
            ],
            "image/png": "[encoded data removed]"
          },
          "metadata": {}
        }
      ]
    },
    {
      "cell_type": "code",
      "source": [
        "accuracy_metric = torchmetrics.Accuracy(task=\"multiclass\", num_classes=10).to(device)\n",
        "conv_model.eval()\n",
        "with torch.no_grad():\n",
        "  for inputs,labels in test_dataloader:\n",
        "    inputs, labels = inputs.to(device),labels.to(device)\n",
        "    y_pred = conv_model(inputs)\n",
        "    accuracy_metric.update(y_pred, labels)\n",
        "\n",
        "test_final_accuracy = accuracy_metric.compute()\n",
        "print(f\"Test Accuracy: {test_final_accuracy:.2f}\")\n",
        "accuracy_metric.reset()\n",
        "with torch.no_grad():\n",
        "  for inputs,labels in train_dataloader:\n",
        "    inputs, labels = inputs.to(device), labels.to(device)\n",
        "    y_pred = conv_model(inputs)\n",
        "    accuracy_metric.update(y_pred, labels)\n",
        "train_final_accuracy = accuracy_metric.compute()\n",
        "print(f\"Train Accuracy: {train_final_accuracy:.2f}\")"
      ],
      "metadata": {
        "colab": {
          "base_uri": "https://localhost:8080/"
        },
        "id": "9S_zU6Ep35j9",
        "outputId": "a6188622-a205-4821-bed3-db9d19f3675c"
      },
      "execution_count": 48,
      "outputs": [
        {
          "output_type": "stream",
          "name": "stdout",
          "text": [
            "Test Accuracy: 0.87\n",
            "Train Accuracy: 0.88\n"
          ]
        }
      ]
    },
    {
      "cell_type": "markdown",
      "source": [
        "# Final Results Evaluation\n",
        "87% Of Acuracy on test Set\n",
        "and\n",
        "88% Accuracy on training set, a bit of overfitting but not something very worrying for a complex data set, want to take a lot at the Confusion Matrix to check some of the images it got wrong\n",
        "Performance went up by 10% just by removing the last layer that was compressing the features, compressing features takes a LOT of the precision"
      ],
      "metadata": {
        "id": "qgxnzfZK48m9"
      }
    },
    {
      "cell_type": "code",
      "source": [
        "from torchmetrics import ConfusionMatrix\n",
        "cMatrix = ConfusionMatrix(task=\"multiclass\",num_classes = 10).to(device)"
      ],
      "metadata": {
        "id": "aYxMa0ybRalq"
      },
      "execution_count": 52,
      "outputs": []
    },
    {
      "cell_type": "code",
      "source": [
        "cMatrix(y_pred,labels)"
      ],
      "metadata": {
        "colab": {
          "base_uri": "https://localhost:8080/"
        },
        "id": "zBBlCa7ORvoa",
        "outputId": "c49af1a4-f246-4b86-ab27-35664b5c4a03"
      },
      "execution_count": 53,
      "outputs": [
        {
          "output_type": "execute_result",
          "data": {
            "text/plain": [
              "tensor([[1, 0, 0, 0, 0, 0, 0, 0, 0, 0],\n",
              "        [0, 2, 0, 0, 0, 0, 0, 0, 0, 0],\n",
              "        [1, 0, 6, 0, 0, 0, 0, 0, 0, 0],\n",
              "        [0, 0, 0, 2, 0, 0, 0, 0, 0, 0],\n",
              "        [0, 0, 0, 0, 0, 0, 1, 0, 0, 0],\n",
              "        [0, 0, 0, 0, 0, 3, 0, 0, 0, 0],\n",
              "        [0, 0, 0, 0, 0, 0, 3, 0, 0, 0],\n",
              "        [0, 0, 0, 0, 0, 0, 0, 5, 0, 0],\n",
              "        [0, 0, 0, 0, 0, 0, 0, 0, 5, 0],\n",
              "        [0, 0, 0, 0, 0, 0, 0, 0, 0, 3]], device='cuda:0')"
            ]
          },
          "metadata": {},
          "execution_count": 53
        }
      ]
    },
    {
      "cell_type": "markdown",
      "source": [
        "It seems most of the errors where on the classes with not a lot of data\n"
      ],
      "metadata": {
        "id": "xAJBW794SAEg"
      }
    },
    {
      "cell_type": "code",
      "source": [
        "with torch.no_grad():\n",
        "  for inputs,labels in test_dataloader:\n",
        "    inputs, labels = inputs.to(device),labels.to(device)\n",
        "    y_pred = conv_model(inputs)\n",
        "    accuracy_metric.update(y_pred, labels)\n",
        "results = cMatrix(y_pred,labels)"
      ],
      "metadata": {
        "id": "TX9AnC-LSS5z"
      },
      "execution_count": 65,
      "outputs": []
    },
    {
      "cell_type": "markdown",
      "source": [
        "One errror on Class 4, confusing it with class 2, it makes sense as class 4 only have one data that the model was able to use. (Also we are only looking at one of the mini batches)"
      ],
      "metadata": {
        "id": "AYUVbJUBSWbt"
      }
    },
    {
      "cell_type": "code",
      "source": [
        "import mlxtend # Data Science Library\n"
      ],
      "metadata": {
        "id": "BSa4O_uJSv4f"
      },
      "execution_count": 56,
      "outputs": []
    },
    {
      "cell_type": "code",
      "source": [
        "from mlxtend.plotting import plot_confusion_matrix\n",
        "\n",
        "# Plot Conf Matrix Visualization"
      ],
      "metadata": {
        "id": "W29acxWoTL4c"
      },
      "execution_count": 59,
      "outputs": []
    },
    {
      "cell_type": "code",
      "source": [
        "plot_confusion_matrix(results.to(\"cpu\").numpy())"
      ],
      "metadata": {
        "colab": {
          "base_uri": "https://localhost:8080/",
          "height": 484
        },
        "id": "BKcACkg7TSa_",
        "outputId": "9c92c973-fc8b-4790-925d-56cec44b6ea0"
      },
      "execution_count": 70,
      "outputs": [
        {
          "output_type": "execute_result",
          "data": {
            "text/plain": [
              "(<Figure size 640x480 with 1 Axes>,\n",
              " <Axes: xlabel='predicted label', ylabel='true label'>)"
            ]
          },
          "metadata": {},
          "execution_count": 70
        },
        {
          "output_type": "display_data",
          "data": {
            "text/plain": [
              "<Figure size 640x480 with 1 Axes>"
            ],
            "image/png": "[encoded data removed]"
          },
          "metadata": {}
        }
      ]
    },
    {
      "cell_type": "code",
      "source": [
        "# Now will try to pass the Whole Data to the Model and then see the ConfMatrix\n",
        "y_pred = []\n",
        "y_exp = []\n",
        "with torch.no_grad():\n",
        "    for inputs,labels in test_dataloader:\n",
        "        inputs = inputs.to(device)\n",
        "        outputs = conv_model(inputs)\n",
        "        y_pred.append(outputs)\n",
        "        y_exp.append(labels.to(device))\n",
        "\n",
        "# Concatenate all predictions into a single tensor\n",
        "y_pred = torch.cat(y_pred, dim=0)\n",
        "y_exp = torch.cat(y_exp,dim=0)"
      ],
      "metadata": {
        "id": "5mcumWbnTa6K"
      },
      "execution_count": 79,
      "outputs": []
    },
    {
      "cell_type": "code",
      "source": [
        "y_pred[0:5]"
      ],
      "metadata": {
        "colab": {
          "base_uri": "https://localhost:8080/"
        },
        "id": "60xx9hfiUlkV",
        "outputId": "6db2c84c-7de8-4c20-f9b7-bf6d217516a5"
      },
      "execution_count": 77,
      "outputs": [
        {
          "output_type": "execute_result",
          "data": {
            "text/plain": [
              "tensor([[ -5.5549, -11.2716,  -4.5173,  -5.3512,  -7.4911,   5.4629,  -4.4544,\n",
              "           7.5636,  -4.4322,  12.7209],\n",
              "        [ -1.9685,  -7.6850,   7.1950,  -4.3890,  -0.6741, -17.4112,   0.2758,\n",
              "         -18.0905,  -7.8909, -16.6284],\n",
              "        [ -2.3252,  15.7361,  -5.7737,   0.0794,  -1.2344,  -9.5937,  -3.2153,\n",
              "          -7.3463,  -4.5528,  -7.3096],\n",
              "        [ -3.3711,  15.1996,  -6.0629,   5.1054,   0.5398, -11.3212,  -2.3306,\n",
              "         -10.1179,  -7.5346, -10.5315],\n",
              "        [  1.8955,  -6.1698,   2.2224,  -2.3545,   0.4471, -18.2536,   3.8576,\n",
              "         -15.3293,  -5.2852, -15.6536]], device='cuda:0')"
            ]
          },
          "metadata": {},
          "execution_count": 77
        }
      ]
    },
    {
      "cell_type": "code",
      "source": [
        "results2 = cMatrix(y_pred,y_exp)"
      ],
      "metadata": {
        "id": "jWyHjHzzUxu_"
      },
      "execution_count": 81,
      "outputs": []
    },
    {
      "cell_type": "code",
      "source": [
        "plot_confusion_matrix(results2.to(\"cpu\").numpy())"
      ],
      "metadata": {
        "colab": {
          "base_uri": "https://localhost:8080/",
          "height": 484
        },
        "id": "jyMkvbFyU3ns",
        "outputId": "76b15983-2445-4a04-c6c7-4898022d33c5"
      },
      "execution_count": 82,
      "outputs": [
        {
          "output_type": "execute_result",
          "data": {
            "text/plain": [
              "(<Figure size 640x480 with 1 Axes>,\n",
              " <Axes: xlabel='predicted label', ylabel='true label'>)"
            ]
          },
          "metadata": {},
          "execution_count": 82
        },
        {
          "output_type": "display_data",
          "data": {
            "text/plain": [
              "<Figure size 640x480 with 1 Axes>"
            ],
            "image/png": "[encoded data removed]"
          },
          "metadata": {}
        }
      ]
    },
    {
      "cell_type": "markdown",
      "source": [
        "Most of the Mistakes at Class 6 with Class 0 and class 6 with class 2, also Class 4 with class 2"
      ],
      "metadata": {
        "id": "0j2D0xvMVbXO"
      }
    },
    {
      "cell_type": "code",
      "source": [
        "from pathlib import Path\n",
        "MODEL_PATH = Path(\"models\")\n",
        "MODEL_PATH.mkdir(parents=True,exist_ok=True)\n",
        "MODEL_NAME = \"Conv_model01\"\n",
        "MODEL_SAVE_PATH = MODEL_PATH / MODEL_NAME\n",
        "torch.save(obj=conv_model.state_dict(),\n",
        "           f = MODEL_SAVE_PATH)"
      ],
      "metadata": {
        "id": "tG-LdGJCVo3z"
      },
      "execution_count": 86,
      "outputs": []
    },
    {
      "cell_type": "code",
      "source": [],
      "metadata": {
        "id": "kLQa7jbsWSdl"
      },
      "execution_count": null,
      "outputs": []
    }
  ]
}