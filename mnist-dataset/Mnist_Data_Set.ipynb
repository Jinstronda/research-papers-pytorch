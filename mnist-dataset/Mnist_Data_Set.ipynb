{
  "nbformat": 4,
  "nbformat_minor": 0,
  "metadata": {
    "colab": {
      "provenance": [],
      "gpuType": "T4",
      "authorship_tag": "ABX9TyMIcnsR0TJYF928mGH3NoVi",
      "include_colab_link": true
    },
    "kernelspec": {
      "name": "python3",
      "display_name": "Python 3"
    },
    "language_info": {
      "name": "python"
    },
    "accelerator": "GPU"
  },
  "cells": [
    {
      "cell_type": "markdown",
      "metadata": {
        "id": "view-in-github",
        "colab_type": "text"
      },
      "source": [
        "<a href=\"https://colab.research.google.com/github/Jinstronda/research-papers-pytorch/blob/main/Mnist_Data_Set.ipynb\" target=\"_parent\"><img src=\"https://colab.research.google.com/assets/colab-badge.svg\" alt=\"Open In Colab\"/></a>"
      ]
    },
    {
      "cell_type": "markdown",
      "source": [
        "# Doing MNIST data set in Pytorch\n",
        "I already done the MNIST data set manually (https://github.com/Jinstronda/Neural-Network-from-0)\n",
        "But i wanna try it in Pytorch as a training set.\n"
      ],
      "metadata": {
        "id": "LcFmj9v0mHPe"
      }
    },
    {
      "cell_type": "code",
      "source": [
        "import torch\n",
        "import numpy as np\n",
        "import matplotlib.pyplot as plt\n",
        "from torch import nn # Necessary Stuff\n",
        "import torchvision # Mnist Data Set is here apparently\n",
        "import torchvision.datasets as datasets\n",
        "from torchvision.transforms import v2, ToTensor\n",
        "import pandas as pd\n",
        "\n",
        "\n"
      ],
      "metadata": {
        "id": "rMt9nE0fmt2Y"
      },
      "execution_count": null,
      "outputs": []
    },
    {
      "cell_type": "code",
      "source": [],
      "metadata": {
        "id": "-8hh204tnOb5"
      },
      "execution_count": null,
      "outputs": []
    },
    {
      "cell_type": "markdown",
      "source": [
        "Right now the Data Sets are images and i want to convert them to Tensors and apply transform, transform is not needed in a simple data set like this but i wanna do it to learn\n"
      ],
      "metadata": {
        "id": "tuEjXTeun0tB"
      }
    },
    {
      "cell_type": "code",
      "source": [
        "transform = v2.Compose([\n",
        "    v2.RandomHorizontalFlip(),\n",
        "    v2.RandomVerticalFlip(),\n",
        "    v2.RandomZoomOut(),\n",
        "    v2.RandomRotation(15)\n",
        "\n",
        "\n",
        "\n",
        "])\n",
        "\n",
        "mnist_trainset = datasets.MNIST(root='./data',\n",
        "                                train=True,\n",
        "                                download=True,\n",
        "                                transform=ToTensor()\n",
        "                               ) # Importing train and test Sets\n",
        "mnist_testset = datasets.MNIST(root='./data', train=False, download=True, transform=ToTensor())"
      ],
      "metadata": {
        "colab": {
          "base_uri": "https://localhost:8080/"
        },
        "id": "TGqDa86GoeXl",
        "outputId": "4e79220a-4eb3-4b27-d858-86fa51d71f7c"
      },
      "execution_count": null,
      "outputs": [
        {
          "output_type": "stream",
          "name": "stdout",
          "text": [
            "Downloading http://yann.lecun.com/exdb/mnist/train-images-idx3-ubyte.gz\n",
            "Failed to download (trying next):\n",
            "HTTP Error 403: Forbidden\n",
            "\n",
            "Downloading https://ossci-datasets.s3.amazonaws.com/mnist/train-images-idx3-ubyte.gz\n",
            "Downloading https://ossci-datasets.s3.amazonaws.com/mnist/train-images-idx3-ubyte.gz to ./data/MNIST/raw/train-images-idx3-ubyte.gz\n"
          ]
        },
        {
          "output_type": "stream",
          "name": "stderr",
          "text": [
            "100%|██████████| 9.91M/9.91M [00:00<00:00, 14.8MB/s]\n"
          ]
        },
        {
          "output_type": "stream",
          "name": "stdout",
          "text": [
            "Extracting ./data/MNIST/raw/train-images-idx3-ubyte.gz to ./data/MNIST/raw\n",
            "\n",
            "Downloading http://yann.lecun.com/exdb/mnist/train-labels-idx1-ubyte.gz\n",
            "Failed to download (trying next):\n",
            "HTTP Error 403: Forbidden\n",
            "\n",
            "Downloading https://ossci-datasets.s3.amazonaws.com/mnist/train-labels-idx1-ubyte.gz\n",
            "Downloading https://ossci-datasets.s3.amazonaws.com/mnist/train-labels-idx1-ubyte.gz to ./data/MNIST/raw/train-labels-idx1-ubyte.gz\n"
          ]
        },
        {
          "output_type": "stream",
          "name": "stderr",
          "text": [
            "100%|██████████| 28.9k/28.9k [00:00<00:00, 487kB/s]\n"
          ]
        },
        {
          "output_type": "stream",
          "name": "stdout",
          "text": [
            "Extracting ./data/MNIST/raw/train-labels-idx1-ubyte.gz to ./data/MNIST/raw\n",
            "\n",
            "Downloading http://yann.lecun.com/exdb/mnist/t10k-images-idx3-ubyte.gz\n",
            "Failed to download (trying next):\n",
            "HTTP Error 403: Forbidden\n",
            "\n",
            "Downloading https://ossci-datasets.s3.amazonaws.com/mnist/t10k-images-idx3-ubyte.gz\n",
            "Downloading https://ossci-datasets.s3.amazonaws.com/mnist/t10k-images-idx3-ubyte.gz to ./data/MNIST/raw/t10k-images-idx3-ubyte.gz\n"
          ]
        },
        {
          "output_type": "stream",
          "name": "stderr",
          "text": [
            "100%|██████████| 1.65M/1.65M [00:00<00:00, 4.45MB/s]\n"
          ]
        },
        {
          "output_type": "stream",
          "name": "stdout",
          "text": [
            "Extracting ./data/MNIST/raw/t10k-images-idx3-ubyte.gz to ./data/MNIST/raw\n",
            "\n",
            "Downloading http://yann.lecun.com/exdb/mnist/t10k-labels-idx1-ubyte.gz\n",
            "Failed to download (trying next):\n",
            "HTTP Error 403: Forbidden\n",
            "\n",
            "Downloading https://ossci-datasets.s3.amazonaws.com/mnist/t10k-labels-idx1-ubyte.gz\n",
            "Downloading https://ossci-datasets.s3.amazonaws.com/mnist/t10k-labels-idx1-ubyte.gz to ./data/MNIST/raw/t10k-labels-idx1-ubyte.gz\n"
          ]
        },
        {
          "output_type": "stream",
          "name": "stderr",
          "text": [
            "100%|██████████| 4.54k/4.54k [00:00<00:00, 11.9MB/s]"
          ]
        },
        {
          "output_type": "stream",
          "name": "stdout",
          "text": [
            "Extracting ./data/MNIST/raw/t10k-labels-idx1-ubyte.gz to ./data/MNIST/raw\n",
            "\n"
          ]
        },
        {
          "output_type": "stream",
          "name": "stderr",
          "text": [
            "\n"
          ]
        }
      ]
    },
    {
      "cell_type": "code",
      "source": [
        "mnist_trainset # Its a Data Set Object with 60 000 data points.\n"
      ],
      "metadata": {
        "colab": {
          "base_uri": "https://localhost:8080/"
        },
        "id": "ck0FIiZYpsyC",
        "outputId": "4d34c4fe-2fae-4b32-ba65-1bad6ec62c43"
      },
      "execution_count": null,
      "outputs": [
        {
          "output_type": "execute_result",
          "data": {
            "text/plain": [
              "Dataset MNIST\n",
              "    Number of datapoints: 60000\n",
              "    Root location: ./data\n",
              "    Split: Train\n",
              "    StandardTransform\n",
              "Transform: ToTensor()"
            ]
          },
          "metadata": {},
          "execution_count": 3
        }
      ]
    },
    {
      "cell_type": "code",
      "source": [
        "labels_map = { # Shows Some Random Images from the data set to confirm its working!\n",
        "    0: \"0\",\n",
        "    1: \"1\",\n",
        "    2: \"2\",\n",
        "    3: \"3\",\n",
        "    4: \"4\",\n",
        "    5: \"5\",\n",
        "    6: \"6\",\n",
        "    7: \"7\",\n",
        "    8: \"8\",\n",
        "    9: \"9\",\n",
        "}\n",
        "\n",
        "cols, rows = 3, 3\n",
        "for i in range(1, cols * rows + 1):\n",
        "    sample_idx = torch.randint(len(mnist_testset), size=(1,)).item()\n",
        "    img, label = mnist_testset[sample_idx]\n",
        "    plt.title(labels_map[label])\n",
        "    plt.axis(\"off\")\n",
        "    plt.imshow(img.squeeze(), cmap=\"gray\")\n",
        "plt.show()\n"
      ],
      "metadata": {
        "colab": {
          "base_uri": "https://localhost:8080/",
          "height": 428
        },
        "id": "DKq6QlG2qJZN",
        "outputId": "b03a8c84-6f09-4f6a-a961-ba09fa2b873f"
      },
      "execution_count": null,
      "outputs": [
        {
          "output_type": "display_data",
          "data": {
            "text/plain": [
              "<Figure size 640x480 with 1 Axes>"
            ],
            "image/png": "[encoded data removed]"
          },
          "metadata": {}
        }
      ]
    },
    {
      "cell_type": "markdown",
      "source": [
        "# Data Loader\n",
        "I wanna use Mini Batches for this data set so i need a Pytorch Data Loader\n"
      ],
      "metadata": {
        "id": "nmH0BhNestdU"
      }
    },
    {
      "cell_type": "code",
      "source": [
        "from torch.utils.data import DataLoader\n",
        "\n"
      ],
      "metadata": {
        "id": "TP5E_3fVtRSL"
      },
      "execution_count": null,
      "outputs": []
    },
    {
      "cell_type": "markdown",
      "source": [
        "Im starting to understand the Data a bit better, it constains tuples of data with Labels."
      ],
      "metadata": {
        "id": "CxbZ8m2ptkbL"
      }
    },
    {
      "cell_type": "code",
      "source": [
        "img,label = mnist_testset[0]\n",
        "print(label)  # ok now i understand better\n",
        "mnist_testset[0][0].shape\n",
        "# So all the layers have 3 dimensions one of them being one because its a gray scale so i can just squeeze it i guess\n",
        "mnist_testset = [(img.squeeze(0),label) for img, label in mnist_testset]\n",
        "mnist_trainset = [(img.squeeze(0),label)for img,label in mnist_trainset]\n",
        "train_dataloader = DataLoader(mnist_trainset,batch_size=64,shuffle=True)\n",
        "test_dataloader = DataLoader(mnist_testset, batch_size = 64, shuffle = True)\n",
        "\n",
        "mnist_testset[0][0].shape # Testing, ok it worked"
      ],
      "metadata": {
        "colab": {
          "base_uri": "https://localhost:8080/"
        },
        "id": "HE8pSdfKtsc5",
        "outputId": "7f48f3dd-2433-4c39-eec1-b8b3f46aaa50"
      },
      "execution_count": null,
      "outputs": [
        {
          "output_type": "stream",
          "name": "stdout",
          "text": [
            "7\n"
          ]
        },
        {
          "output_type": "execute_result",
          "data": {
            "text/plain": [
              "torch.Size([28, 28])"
            ]
          },
          "metadata": {},
          "execution_count": 17
        }
      ]
    },
    {
      "cell_type": "code",
      "source": [
        "# Gave up on doing transfomrmations as there is a lot of data alr, if i need it ill do it later"
      ],
      "metadata": {
        "id": "UIUmc_CAt1wb"
      },
      "execution_count": null,
      "outputs": []
    },
    {
      "cell_type": "markdown",
      "source": [
        "# Model Creation\n",
        "Ok now the data Preloading is good and i can start developing a Neural Network"
      ],
      "metadata": {
        "id": "XYBIAINkuJVo"
      }
    },
    {
      "cell_type": "code",
      "source": [
        "class NeuralNetwork(nn.Module): # Always inherit from nn modules\n",
        "  def __init__(self):\n",
        "    super().__init__() # Have to start the Inheritance Class (dad?)\n",
        "    self.flatten = nn.Flatten() # Apparently this flatten the images\n",
        "    self.prediction = nn.Sequential(\n",
        "        nn.Linear(784,64),# It comes with parameters in features (for the number of weights in the neurons) and then the number of neurons itself has\n",
        "        nn.ReLU(),\n",
        "        nn.Dropout(0.5),  # Adding Dropout for regularization\n",
        "        nn.Linear(64,64),\n",
        "        nn.ReLU(),\n",
        "        nn.Linear(64,64), # Output Logits\n",
        "        nn.ReLU(),\n",
        "        nn.Linear(64,10)\n",
        "    )\n",
        "\n",
        "  def forward(self,x): # Inference\n",
        "      x=self.flatten(x)\n",
        "      predictions = self.prediction(x)\n",
        "      return predictions # Debugging i forgot to do a return lmao"
      ],
      "metadata": {
        "id": "KfvOfRKJu7LL"
      },
      "execution_count": null,
      "outputs": []
    },
    {
      "cell_type": "code",
      "source": [
        "model = NeuralNetwork() # Initializing\n",
        "loss_f = nn.CrossEntropyLoss()\n",
        "optimizer = torch.optim.Adam(model.parameters(),lr=0.001,weight_decay=1e-4) # Apparently we dont even need to code momentum, this is way too simple lol"
      ],
      "metadata": {
        "id": "AyNRHpx2w2U1"
      },
      "execution_count": null,
      "outputs": []
    },
    {
      "cell_type": "code",
      "source": [
        "# Some Debugging, im having some weird errors so ill try to send everything to the google graphic cardd\n",
        "device = torch.device(\"cuda\" if torch.cuda.is_available() else \"cpu\")\n",
        "model = model.to(device)\n",
        "for images, labels in train_dataloader:\n",
        "    images = images.to(device)\n",
        "    labels = labels.to(device)\n",
        "for images,labels in test_dataloader:\n",
        "  images = images.to(device)\n",
        "  labels = labels.to(device)\n"
      ],
      "metadata": {
        "id": "zXtx6Xde3azz"
      },
      "execution_count": null,
      "outputs": []
    },
    {
      "cell_type": "code",
      "source": [
        "# Training loop\n",
        "epochs = 20\n",
        "epoch_count = []\n",
        "train_loss_track = []\n",
        "test_loss_track = []\n",
        "for i in range(epochs):\n",
        "  model.train() # Tem que colocar em train style\n",
        "  train_loss = 0.0 # Its weird but with epochs we need to get an average of Loss for the whole epoch\n",
        "  for images,labels in train_dataloader:\n",
        "    images = images.to(device)\n",
        "    labels = labels.to(device) # Maybe this will help with the bug\n",
        "    y_pred = model(images)\n",
        "    loss = loss_f(y_pred,labels)\n",
        "    optimizer.zero_grad() # Resetting the Optimizer so it doesnt accumulate\n",
        "    loss.backward()\n",
        "    optimizer.step()\n",
        "    train_loss += loss.item() # Convert to a python scalar\n",
        "  train_loss /= len(train_dataloader) # Average\n",
        "  model.eval()\n",
        "  test_loss = 0.0\n",
        "  with torch.inference_mode():\n",
        "    for images,labels in test_dataloader:\n",
        "      images = images.to(device)\n",
        "      labels = labels.to(device)\n",
        "      y_t_pred = model(images)\n",
        "      t_loss = loss_f(y_t_pred,labels)\n",
        "      test_loss += t_loss.item() # Need to get average as well, ishouldnt have used epochs for something so simple lmao\n",
        "\n",
        "    test_loss /= len(test_dataloader) # Again averaging\n",
        "\n",
        "    epoch_count.append(i) # I LOVE GRAPHS\n",
        "    train_loss_track.append(train_loss) # I need to standardize my variables names or im cooked\n",
        "    test_loss_track.append(test_loss) # I accidentally created a huge list loop lol, solved\n",
        "\n",
        "\n",
        "\n",
        "\n",
        "\n",
        "\n",
        "  if i % 5 == 0:\n",
        "    print(f\"Epoch {i}, Train Loss: {train_loss:.4f}, Test Loss: {test_loss:.4f}\")\n",
        "\n"
      ],
      "metadata": {
        "colab": {
          "base_uri": "https://localhost:8080/"
        },
        "id": "E4DxNyslypnJ",
        "outputId": "e856950c-4700-4655-a436-dc1e3770934b"
      },
      "execution_count": null,
      "outputs": [
        {
          "output_type": "stream",
          "name": "stdout",
          "text": [
            "Epoch 0, Train Loss: 0.5863, Test Loss: 0.2511\n",
            "Epoch 5, Train Loss: 0.2423, Test Loss: 0.1385\n",
            "Epoch 10, Train Loss: 0.2076, Test Loss: 0.1106\n",
            "Epoch 15, Train Loss: 0.1923, Test Loss: 0.1081\n"
          ]
        }
      ]
    },
    {
      "cell_type": "code",
      "source": [
        "plt.plot(epoch_count,train_loss_track)\n",
        "plt.plot(epoch_count,test_loss_track)\n",
        "\n",
        "plt.show()"
      ],
      "metadata": {
        "colab": {
          "base_uri": "https://localhost:8080/",
          "height": 430
        },
        "id": "yWAdAEyy23-R",
        "outputId": "9e4f3050-f6ec-436e-f680-ddf53968e4c2"
      },
      "execution_count": null,
      "outputs": [
        {
          "output_type": "display_data",
          "data": {
            "text/plain": [
              "<Figure size 640x480 with 1 Axes>"
            ],
            "image/png": "[encoded data removed]"
          },
          "metadata": {}
        }
      ]
    },
    {
      "cell_type": "markdown",
      "source": [
        "# Reiterating\n",
        "model is definetely overfitting, will add regularization\n",
        "Ok model improved a lot with Regularization, still overfitting a lit tho\n",
        "Maybe Learning rate is too high, let me try again\n",
        "I can include some data transformation or maybe increased the regularization"
      ],
      "metadata": {
        "id": "X3jmQM9k41Lf"
      }
    },
    {
      "cell_type": "code",
      "source": [],
      "metadata": {
        "id": "XaKnYjHG692i"
      },
      "execution_count": null,
      "outputs": []
    }
  ]
}
